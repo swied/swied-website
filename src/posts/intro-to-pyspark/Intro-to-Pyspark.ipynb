{
  "cells": [
    {
      "cell_type": "raw",
      "metadata": {},
      "source": [
        "---\n",
        "title: Intro to Pyspark\n",
        "author: Scott Wied\n",
        "date: 11/03/2022\n",
        "format:\n",
        "  html:\n",
        "    code-fold: false\n",
        "---"
      ],
      "id": "e39aeec0"
    },
    {
      "cell_type": "markdown",
      "metadata": {},
      "source": [
        "# Intro to Pyspark\n"
      ],
      "id": "85d7f2f2"
    },
    {
      "cell_type": "code",
      "metadata": {},
      "source": [
        "import pandas as pd\n",
        "import numpy as np"
      ],
      "id": "1647457c",
      "execution_count": null,
      "outputs": []
    },
    {
      "cell_type": "code",
      "metadata": {},
      "source": [
        "from pyspark.sql import SparkSession\n",
        "spark = SparkSession.builder.getOrCreate()"
      ],
      "id": "f6592fbb",
      "execution_count": null,
      "outputs": []
    },
    {
      "cell_type": "code",
      "metadata": {},
      "source": [
        "import pyspark.sql.types as T\n",
        "import pyspark.sql.functions as F"
      ],
      "id": "2e667cef",
      "execution_count": null,
      "outputs": []
    },
    {
      "cell_type": "code",
      "metadata": {},
      "source": [
        "pdf = pd.DataFrame({'x':[1,2,3], 'y':[5,6,7]})\n",
        "pdf.to_csv('test.csv')\n",
        "pdf.head()"
      ],
      "id": "b9ec3984",
      "execution_count": null,
      "outputs": []
    },
    {
      "cell_type": "code",
      "metadata": {},
      "source": [
        "spark.sql(\"select 1+1\").show()"
      ],
      "id": "d46d10a2",
      "execution_count": null,
      "outputs": []
    },
    {
      "cell_type": "markdown",
      "metadata": {},
      "source": [
        "### \n"
      ],
      "id": "c62fa42e"
    }
  ],
  "metadata": {
    "kernelspec": {
      "name": "python3",
      "language": "python",
      "display_name": "Python 3"
    }
  },
  "nbformat": 4,
  "nbformat_minor": 5
}