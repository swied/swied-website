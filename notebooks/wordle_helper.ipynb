{
 "cells": [
  {
   "cell_type": "markdown",
   "id": "24f8d3c7-2809-4ce7-97c7-69adc1f6943a",
   "metadata": {},
   "source": [
    "## Introduction"
   ]
  },
  {
   "cell_type": "markdown",
   "id": "e452041a-382a-49bd-bad9-82b40c80aff0",
   "metadata": {},
   "source": [
    "The Oxford English Dictionary states that there are 171,146 words currently in use, plus and additional 218,302 obsolete words (source: https://www.bbc.com/news/world-44569277)."
   ]
  },
  {
   "cell_type": "code",
   "execution_count": 110,
   "id": "c0458f6a",
   "metadata": {},
   "outputs": [],
   "source": [
    "import re\n",
    "import nltk\n",
    "import numpy as np\n",
    "import random\n",
    "import pandas as pd\n",
    "import matplotlib.pyplot as plt\n",
    "import seaborn as sns\n",
    "# clean_word = lambda x: re.sub(r\"[^a-z\\-\\ ]\", '', x.lower())"
   ]
  },
  {
   "cell_type": "markdown",
   "id": "2a691367-7149-4067-8e99-d63c2b1fedb4",
   "metadata": {},
   "source": [
    "## Data Preparation"
   ]
  },
  {
   "cell_type": "markdown",
   "id": "3449a3a2-1fb5-401f-9c6e-cb1eec04cdd0",
   "metadata": {},
   "source": [
    "We will need a list of five letter words to choose from in order to prediction the answer to a Wordle problem.  There are a few corpuses in the public domain that you can easily download using the NLTK package.  The steps below show you how to do that.\n",
    "\n",
    "1. Download the word lists (corpuses), \n",
    "2. Explore them, \n",
    "3. Do data cleansing, and \n",
    "4. Filter the final list to only words with five letters."
   ]
  },
  {
   "cell_type": "markdown",
   "id": "fb842c06-51fe-401b-a437-d1a84a8416e0",
   "metadata": {},
   "source": [
    "### Download word lists from NLTK"
   ]
  },
  {
   "cell_type": "markdown",
   "id": "ae195201-457f-457c-877e-22fca19a4826",
   "metadata": {},
   "source": [
    "Start out by [downloading a few English language corpuses from NLTK](https://www.nltk.org/data.html).  This only needs to be done once, since the files will be saved on your computer.  You should comment out the code in the cell below after running it."
   ]
  },
  {
   "cell_type": "code",
   "execution_count": 2,
   "id": "4d9cc3c0-3b01-4092-bea1-c618c86deb24",
   "metadata": {},
   "outputs": [],
   "source": [
    "# nltk.download()"
   ]
  },
  {
   "cell_type": "markdown",
   "id": "776dddf3-e302-4f16-b576-ca0a6ed27f01",
   "metadata": {},
   "source": [
    "### Explore the NKTK word lists"
   ]
  },
  {
   "cell_type": "markdown",
   "id": "25999cac-4cd0-4198-b0f1-8d8163caf4e5",
   "metadata": {},
   "source": [
    "Take a look at the words given in a few of the downloaded lists: 'brown', 'words', and 'abc'."
   ]
  },
  {
   "cell_type": "code",
   "execution_count": 3,
   "id": "5b220ad2-7aaa-444f-b8df-6e070cc024aa",
   "metadata": {},
   "outputs": [
    {
     "name": "stdout",
     "output_type": "stream",
     "text": [
      "corpus_brown: ['The', 'Fulton', 'County', 'Grand', 'Jury', 'said', 'Friday', 'an', 'investigation', 'of', \"Atlanta's\", 'recent', 'primary', 'election', 'produced', '``', 'no', 'evidence', \"''\", 'that', 'any', 'irregularities', 'took', 'place', '.', 'The', 'jury', 'further', 'said', 'in', 'term-end', 'presentments', 'that', 'the', 'City', 'Executive', 'Committee', ',', 'which', 'had', 'over-all', 'charge', 'of', 'the', 'election', ',', '``', 'deserves', 'the', 'praise'] \n",
      "\n",
      "corpus_words: ['A', 'a', 'aa', 'aal', 'aalii', 'aam', 'Aani', 'aardvark', 'aardwolf', 'Aaron', 'Aaronic', 'Aaronical', 'Aaronite', 'Aaronitic', 'Aaru', 'Ab', 'aba', 'Ababdeh', 'Ababua', 'abac', 'abaca', 'abacate', 'abacay', 'abacinate', 'abacination', 'abaciscus', 'abacist', 'aback', 'abactinal', 'abactinally', 'abaction', 'abactor', 'abaculus', 'abacus', 'Abadite', 'abaff', 'abaft', 'abaisance', 'abaiser', 'abaissed', 'abalienate', 'abalienation', 'abalone', 'Abama', 'abampere', 'abandon', 'abandonable', 'abandoned', 'abandonedly', 'abandonee'] \n",
      "\n",
      "corpus_abc: ['PM', 'denies', 'knowledge', 'of', 'AWB', 'kickbacks', 'The', 'Prime', 'Minister', 'has', 'denied', 'he', 'knew', 'AWB', 'was', 'paying', 'kickbacks', 'to', 'Iraq', 'despite', 'writing', 'to', 'the', 'wheat', 'exporter', 'asking', 'to', 'be', 'kept', 'fully', 'informed', 'on', 'Iraq', 'wheat', 'sales', '.', 'Letters', 'from', 'John', 'Howard', 'and', 'Deputy', 'Prime', 'Minister', 'Mark', 'Vaile', 'to', 'AWB', 'have', 'been'] \n",
      "\n"
     ]
    }
   ],
   "source": [
    "corpus_brown = list(nltk.corpus.brown.words())\n",
    "corpus_words = list(nltk.corpus.words.words())\n",
    "corpus_abc   = list(nltk.corpus.abc.words())\n",
    "\n",
    "print(\"corpus_brown:\", corpus_brown[0:50], '\\n')\n",
    "print(\"corpus_words:\", corpus_words[0:50],'\\n')\n",
    "print(\"corpus_abc:\",   corpus_abc[0:50], '\\n')"
   ]
  },
  {
   "cell_type": "markdown",
   "id": "7e3ed01c-0162-4b19-bf3d-f6a834f95f3b",
   "metadata": {},
   "source": [
    "Obviously, some data cleaning is required.  Here are a few observations:\n",
    "\n",
    "- Both upper and lower case letteres are used\n",
    "- There are non alphabetic characters like appostrophes, dashes, and backticks\n",
    "- Some list entries don't seem to be real words: 'aa', 'aam', and 'abac'\n",
    "- There are many words with more or less than five characters that will need to be filtered out after cleaning"
   ]
  },
  {
   "cell_type": "markdown",
   "id": "a9b48f92-d733-46d8-901c-01f86a766c25",
   "metadata": {},
   "source": [
    "### Combine and clean the word lists"
   ]
  },
  {
   "cell_type": "code",
   "execution_count": 115,
   "id": "31af631e-38d3-4fce-938e-34f36065a928",
   "metadata": {},
   "outputs": [
    {
     "name": "stdout",
     "output_type": "stream",
     "text": [
      "corpus_cleaned_and_deduped: ['foreship', 'ergotic', 'anarchic', 'deceives', 'disconform', 'astrictiveness', 'weiselbergite', 'smarten', 'indiscerptibility', 'dinkum', 'spruceness', 'subpoenas', 'uninspirited', 'apportioned', 'ipecacuanhic', 'astrobiologists', 'gerasene', 'scopulate', 'phacolite', 'vesicosigmoid']\n"
     ]
    }
   ],
   "source": [
    "# Combine the three lists together into one list\n",
    "corpus_combined = corpus_brown + corpus_words + corpus_abc\n",
    "\n",
    "# Make all words lower case\n",
    "corpus_lowercase = [x.lower() for x in corpus_combined]\n",
    "\n",
    "# Remove words with non alphabetical characters\n",
    "corpus_alph_only = [\n",
    "    x\n",
    "    for x\n",
    "    in corpus_lowercase\n",
    "    if x == re.sub(r'[^a-z]', '', x)\n",
    "]\n",
    "\n",
    "# Remove empty words\n",
    "corpus_cleaned = [\n",
    "    x\n",
    "    for x\n",
    "    in corpus_alph_only\n",
    "    if x!=''\n",
    "]\n",
    "\n",
    "# Dedup the combined list\n",
    "corpus_cleaned_and_deduped = list(set(corpus_cleaned))\n",
    "\n",
    "# Print a random sample of 20 words from the list\n",
    "print(\"corpus_cleaned_and_deduped:\", \n",
    "      random.sample(corpus_cleaned_and_deduped, 20))"
   ]
  },
  {
   "cell_type": "markdown",
   "id": "ab68d744-0453-41b5-a3ae-e2ef8e4a882e",
   "metadata": {},
   "source": [
    "### Plot the distribution of words by word length"
   ]
  },
  {
   "cell_type": "code",
   "execution_count": 125,
   "id": "52e98cf1-4f13-460a-9fc1-f2258eb68a50",
   "metadata": {},
   "outputs": [
    {
     "name": "stdout",
     "output_type": "stream",
     "text": [
      "l.sort() [5, 10, 12, 21, 22, 33, 53]\n",
      "21\n"
     ]
    }
   ],
   "source": [
    "l = [33,53,22,21,10,5,12]\n",
    "l.sort()\n",
    "print(\"l.sort()\", l)\n",
    "print(l[len(l) // 2])"
   ]
  },
  {
   "cell_type": "code",
   "execution_count": 122,
   "id": "91ba121b-7e50-4867-9fa4-220cb9bf0f0a",
   "metadata": {},
   "outputs": [
    {
     "data": {
      "image/png": "[encoded data removed]",
      "text/plain": [
       "<Figure size 432x288 with 1 Axes>"
      ]
     },
     "metadata": {
      "needs_background": "light"
     },
     "output_type": "display_data"
    }
   ],
   "source": [
    "df_words = (\n",
    "    pd.DataFrame({'word':corpus_cleaned_and_deduped})\n",
    "    .assign(word_length = lambda x: \n",
    "            [len(y) for y in x.word])\n",
    "    .groupby(['word_length'])\n",
    "    .count()\n",
    "    .rename(columns={'word':'words'})\n",
    ")\n",
    "\n",
    "df_words.plot(\n",
    "    kind = 'bar',\n",
    "    title = 'Counts of Words by Word Length',\n",
    "    xlabel = 'Word Length',\n",
    "    legend=False)\n",
    "\n",
    "plt.show()"
   ]
  },
  {
   "cell_type": "code",
   "execution_count": 101,
   "id": "8888411b-b661-46d9-87da-ec8e2952c8f1",
   "metadata": {},
   "outputs": [
    {
     "name": "stdout",
     "output_type": "stream",
     "text": [
      "Number of 5 letter words: 12357\n"
     ]
    }
   ],
   "source": [
    "# Keep only words with five letters\n",
    "corpus_5_letters = [\n",
    "    x\n",
    "    for x\n",
    "    in corpus_deduped\n",
    "    if len(x)==5\n",
    "]\n",
    "\n",
    "# Count how many words there are in the list\n",
    "print(\"Number of 5 letter words:\", len(corpus_5_letters))"
   ]
  },
  {
   "cell_type": "code",
   "execution_count": 77,
   "id": "11ec50f0-98b9-43ed-be20-c90e8a2ec11d",
   "metadata": {},
   "outputs": [
    {
     "name": "stdout",
     "output_type": "stream",
     "text": [
      "singularized_words: ['shaw', 'sportsmen', 'victor', 'growers', 'child', 'bromfield', 'dulles', 'gee', 'collins', 'week', 'semester', 'leavin', 'stations', 'carpenters', 'braque', 'concerto', 'poland', 'customer', 'lyricist', 'alcinous'] \n",
      "\n",
      "compound_words_joined: ['newlyscrubbed', 'sureenough', 'heroworshippers', 'fullsized', 'waterbalance', 'offbeat', 'downandouters', 'lp', 'boilerburner', '2yearold', 'antiintellectual', 'hellfire', 'cobalt60', 'piginfested', 'spanishamerican', 'linefragments', 'tailormade', 'clearchannel', 'khakibound', 'adiosrena'] \n",
      "\n"
     ]
    }
   ],
   "source": [
    "# Pull out the singular part of plural words\n",
    "singularized_words = [\n",
    "    x.split(\"'\")[0] \n",
    "    for x \n",
    "    in corpus_combined \n",
    "    if (len(x.split(\"'\"))==2) & ((x[-2:]==\"'s\") | (x[-1:]==\"'\"))\n",
    "]\n",
    "\n",
    "# Change words like \"over-all\" to \"overall\"\n",
    "compound_words_joined = [\n",
    "    re.sub('\\-', '', x)\n",
    "    for x\n",
    "    in corpus_combined\n",
    "    if re.search('\\-', x) != None\n",
    "]\n",
    "\n",
    "print(\"singularized_words:\", singularized_words[0:20], '\\n')\n",
    "print(\"compound_words_joined:\", compound_words_joined[0:20],'\\n')"
   ]
  },
  {
   "cell_type": "code",
   "execution_count": 73,
   "id": "6c463829-e553-4100-b298-af33a318dfd5",
   "metadata": {},
   "outputs": [
    {
     "name": "stdout",
     "output_type": "stream",
     "text": [
      "Number of words in corpus_cleaned: 263614\n"
     ]
    }
   ],
   "source": [
    "# Combine all lists together\n",
    "corpus_cleaned =  (\n",
    "    singularized_words +\n",
    "    compound_words_joined +\n",
    "    corpus_combined\n",
    ")\n",
    "\n",
    "# Remove words with non alpha chars\n",
    "corpus_cleaned = [\n",
    "    x \n",
    "    for x \n",
    "    in corpus_cleaned \n",
    "    if re.sub('[^a-z]', '', x) == x\n",
    "]\n",
    "\n",
    "# Dedup and sort the list of words\n",
    "corpus_cleaned = sorted(list(set(corpus_cleaned)))\n",
    "\n",
    "print(\"Number of words in corpus_cleaned:\", len(corpus_cleaned))"
   ]
  },
  {
   "cell_type": "code",
   "execution_count": 76,
   "id": "ddf60d77-0450-4d9e-9b8e-bb7509255ee4",
   "metadata": {},
   "outputs": [
    {
     "data": {
      "image/png": "[encoded data removed]",
      "text/plain": [
       "<Figure size 432x288 with 1 Axes>"
      ]
     },
     "metadata": {
      "needs_background": "light"
     },
     "output_type": "display_data"
    }
   ],
   "source": [
    "df_words = (\n",
    "    pd.DataFrame({'word':corpus_cleaned})\n",
    "    .assign(word_length = lambda x: \n",
    "            [len(y) for y in x['word']])\n",
    "    .groupby(['word_length'])\n",
    "    .count()\n",
    "    .rename(columns={'word':'words'})\n",
    ")\n",
    "\n",
    "df_words.plot(\n",
    "    kind = 'bar',\n",
    "    title = 'Counts of Words by Word Length',\n",
    "    xlabel = 'Word Length',\n",
    "    legend=False)\n",
    "\n",
    "plt.show()"
   ]
  },
  {
   "cell_type": "code",
   "execution_count": 75,
   "id": "7b466004-1fe5-419f-942c-9d112482e195",
   "metadata": {},
   "outputs": [],
   "source": [
    "# Remove words that don't have exactly 5 letters\n",
    "corpus_five_letters = [\n",
    "    x \n",
    "    for x \n",
    "    in corpus_cleaned \n",
    "    if len(x) == 5\n",
    "]"
   ]
  },
  {
   "cell_type": "code",
   "execution_count": 209,
   "id": "7ca68a29-a981-440f-808c-40b307725b87",
   "metadata": {},
   "outputs": [
    {
     "data": {
      "image/png": "[encoded data removed]",
      "text/plain": [
       "<Figure size 432x288 with 1 Axes>"
      ]
     },
     "metadata": {
      "needs_background": "light"
     },
     "output_type": "display_data"
    }
   ],
   "source": []
  },
  {
   "cell_type": "markdown",
   "id": "368a64f1",
   "metadata": {
    "tags": []
   },
   "source": [
    "##  Download corpus, and make a list of 5-letter words"
   ]
  },
  {
   "cell_type": "code",
   "execution_count": 3,
   "id": "1f9d2b98",
   "metadata": {},
   "outputs": [
    {
     "name": "stdout",
     "output_type": "stream",
     "text": [
      "Count of all clean words in NLTK corpuses: 265121\n",
      "Count of all 5-letter words: 12568\n"
     ]
    }
   ],
   "source": [
    "\n",
    "\n",
    "words_list = corpus['brown'] + corpus['words'] + corpus['abc']\n",
    "words_list = [clean_word(x) for x in words_list]\n",
    "words_list = sorted(list(set([clean_word(x) for x in words_list])))\n",
    "print(f\"Count of all clean words in NLTK corpuses:\", len(words_list))\n",
    "\n",
    "five_letter_words_list = [x for x in words_list if len(x)==5]\n",
    "print(\"Count of all 5-letter words:\", len(five_letter_words_list))"
   ]
  },
  {
   "cell_type": "code",
   "execution_count": 4,
   "id": "bbabb3d9",
   "metadata": {},
   "outputs": [
    {
     "data": {
      "text/plain": [
       "1"
      ]
     },
     "execution_count": 4,
     "metadata": {},
     "output_type": "execute_result"
    }
   ],
   "source": [
    "sum([1 for x in five_letter_words_list if x=='where'])"
   ]
  },
  {
   "cell_type": "code",
   "execution_count": 5,
   "id": "f10c1623",
   "metadata": {},
   "outputs": [
    {
     "data": {
      "text/plain": [
       "{'a', 'c', 'd', 'g', 'i', 'l', 'n', 'o', 'r', 's', 't'}"
      ]
     },
     "execution_count": 5,
     "metadata": {},
     "output_type": "execute_result"
    }
   ],
   "source": [
    "set('aosslatcastastidrangloanglo')"
   ]
  },
  {
   "cell_type": "markdown",
   "id": "cc7474ff",
   "metadata": {},
   "source": [
    "---"
   ]
  },
  {
   "cell_type": "markdown",
   "id": "defbdeed",
   "metadata": {},
   "source": [
    "## Parameters to change after each Wordle attempt"
   ]
  },
  {
   "cell_type": "code",
   "execution_count": 6,
   "id": "afee60e1",
   "metadata": {},
   "outputs": [],
   "source": [
    "char_freq_index = {k: v for v, k in enumerate(list(\"easroiltndcuhmypbgkfwvjzxq\"))}\n",
    "word_score            = lambda w: sum([char_freq_index[x] for x in list(w)])\n",
    "\n",
    "def get_possible_words(green_letters='_____', \n",
    "                       orange_letters='', \n",
    "                       gray_letters='', \n",
    "                       dups=True, \n",
    "                       word_length = 5,\n",
    "                       word_list = five_letter_words_list\n",
    "                      ):\n",
    "    \n",
    "    orange = [ (int(x[0])-1, x[1].lower()) for x in orange_letters.split()]\n",
    "    green = green_letters.lower()\n",
    "    gray = ''.join(sorted(set(gray_letters.lower())))\n",
    "    \n",
    "    has_green     = lambda w: all([w[i]==green[i] for i in range(word_length) if green[i]!='_'])\n",
    "    has_orange    = lambda w: all([((w[k]!=v) and (v in w)) for k,v in orange]) if orange else True\n",
    "    has_gray      = lambda w: len(remove_gray(w)) < len(w)\n",
    "    has_dups      = lambda w: len(list(set(w)))==len(w)\n",
    "    \n",
    "    remove_green  = lambda w: ''.join([w[i] for i in range(word_length) if green[i]=='_'])\n",
    "    remove_gray   = lambda w: re.sub(fr'[{gray}]', '', w) if gray else w\n",
    "    \n",
    "#     remove_orange = lambda w: all([((w[k]!=v) and (v in w)) for k,v in orange]) if orange else True\n",
    "    # todo: add a `remove_orange` function\n",
    "\n",
    "    \n",
    "    # Step 1 - Filter the list to words with matching green letters in the correct positions\n",
    "    possible_words_1 = [w for w in word_list if has_green(w)]\n",
    "    \n",
    "    # Step 2 - Filter the list to words with matching orange letters, but not in the correct positions\n",
    "    possible_words_2 = [w for w in possible_words_1 if has_orange(w)]\n",
    "    \n",
    "    # Step 3 - Filter the list to just words where, with the green (and maybe orange letters) removed, there are no gray letters\n",
    "    possible_words_3 = [w for w in possible_words_2 if not has_gray(remove_green(w))]\n",
    "\n",
    "    # Step 4 - Order the words by the frequencies scores of their letters\n",
    "    possible_words_4 = sorted([[word_score(x), x] for x in possible_words_3])\n",
    "    \n",
    "    # Step 5 - Remove the score from the beginning of each word\n",
    "    possible_words_5 = [x[1] for x in possible_words_4]\n",
    "    \n",
    "    # Step 6 - Remove words with duplicate matching green characters\n",
    "    possible_words_6 =[x for x in possible_words_5 if has_dups(x)] if not dups else possible_words_5\n",
    "    \n",
    "    return possible_words_6"
   ]
  },
  {
   "cell_type": "code",
   "execution_count": 42,
   "id": "d584f766",
   "metadata": {},
   "outputs": [],
   "source": [
    "dups = False\n",
    "n=50"
   ]
  },
  {
   "cell_type": "markdown",
   "id": "91f6fff2",
   "metadata": {},
   "source": [
    "## Wordl (Single word)"
   ]
  },
  {
   "cell_type": "code",
   "execution_count": 47,
   "id": "8f0f14a3",
   "metadata": {},
   "outputs": [],
   "source": [
    "green = '_roth'    # A 5 char string with '_' chars for unknowns. Starting value: '_____'\n",
    "orange = '1r 2h 5o'        # A string of position+char values (ex: '2a 2e 5n').  \n",
    "gray = 'aseinb'         # A string of characters to exclude. Example: 'enu'\n",
    "\n",
    "if not len(green)==5: print(\"green is not 5 characters\")"
   ]
  },
  {
   "cell_type": "code",
   "execution_count": 48,
   "id": "6b5ab0d6",
   "metadata": {},
   "outputs": [
    {
     "name": "stdout",
     "output_type": "stream",
     "text": [
      "['groth', 'froth', 'wroth']\n"
     ]
    }
   ],
   "source": [
    "possible_words_list = get_possible_words(green, orange, gray, dups)[0:n]\n",
    "print(possible_words_list)"
   ]
  },
  {
   "cell_type": "markdown",
   "id": "0281c94d",
   "metadata": {},
   "source": [
    "## Quordl (4 words)"
   ]
  },
  {
   "cell_type": "markdown",
   "id": "c180435d",
   "metadata": {},
   "source": [
    "#### Starter code:\n",
    "word_list_1a =get_possible_words(green_letters = '_____', \n",
    "                                orange_letters='', \n",
    "                                gray_letters='', dups=dups)\n",
    "\n",
    "word_list_1b =get_possible_words(green_letters = '_____', \n",
    "                                orange_letters='', \n",
    "                                gray_letters='', dups=dups)\n",
    "\n",
    "word_list_2a =get_possible_words(green_letters = '_____', \n",
    "                                orange_letters='', \n",
    "                                gray_letters='', dups=dups)\n",
    "\n",
    "word_list_2b =get_possible_words(green_letters = '_____', \n",
    "                                orange_letters='', \n",
    "                                gray_letters='', dups=dups)"
   ]
  },
  {
   "cell_type": "code",
   "execution_count": 38,
   "id": "42cb9e05",
   "metadata": {},
   "outputs": [],
   "source": [
    "# Word 1\n",
    "word_list_1a =get_possible_words(green_letters = 'scope', \n",
    "                                orange_letters='4s 5o 1c 2o 4c', \n",
    "                                gray_letters='arratilnrahngo', dups=dups)\n",
    "\n",
    "word_list_1b =get_possible_words(green_letters = 'blo_e', \n",
    "                                orange_letters='5o 2o', \n",
    "                                gray_letters='arsraticnrachscp', dups=dups)\n",
    "\n",
    "word_list_2a =get_possible_words(green_letters = 'roach', \n",
    "                                orange_letters='1a 2r 3o 5o 1c', \n",
    "                                gray_letters='setile', dups=dups)\n",
    "\n",
    "word_list_2b =get_possible_words(green_letters = 'bongo', \n",
    "                                orange_letters='3o 4n', \n",
    "                                gray_letters='arseraticlerachscpe', dups=dups)"
   ]
  },
  {
   "cell_type": "code",
   "execution_count": 39,
   "id": "05150c9b",
   "metadata": {},
   "outputs": [
    {
     "name": "stdout",
     "output_type": "stream",
     "text": [
      "word_list_1a: ['scope'] \n",
      "\n",
      "word_list_1b: ['bloke'] \n",
      "\n",
      "word_list_2a: ['roach'] \n",
      "\n",
      "word_list_2b: ['bongo'] \n",
      "\n"
     ]
    }
   ],
   "source": [
    "print(\"word_list_1a:\", word_list_1a[0:n], '\\n')\n",
    "print(\"word_list_1b:\", word_list_1b[0:n], '\\n')\n",
    "print(\"word_list_2a:\", word_list_2a[0:n], '\\n')\n",
    "print(\"word_list_2b:\", word_list_2b[0:n], '\\n')"
   ]
  },
  {
   "cell_type": "code",
   "execution_count": 37,
   "id": "be9aa016",
   "metadata": {},
   "outputs": [
    {
     "name": "stdout",
     "output_type": "stream",
     "text": [
      "(1) top 50 guesses:\n",
      " [[27, 'eloge'], [30, 'roach'], [31, 'scope'], [33, 'nondo'], [40, 'glome'], [43, 'globe'], [44, 'bloke'], [46, 'mongo'], [48, 'bonbo'], [48, 'donzo'], [48, 'glove'], [49, 'bongo'], [50, 'gloze'], [51, 'kongo']]\n",
      "\n",
      "=======================================================================================\n",
      "\n",
      "(2) top 50 intersecting guesses:\n",
      " []\n"
     ]
    }
   ],
   "source": [
    "all_possible_words = list(set(word_list_1a + word_list_1b + word_list_2a + word_list_2b))\n",
    "\n",
    "all_common_words = list(set(word_list_1a).intersection(word_list_1b).intersection(word_list_2a).intersection(word_list_2b))\n",
    "\n",
    "print(f\"(1) top {n} guesses:\\n\", sorted([[word_score(x), x] for x in all_possible_words])[0:n])\n",
    "print(\"\\n=======================================================================================\\n\")\n",
    "print(f\"(2) top {n} intersecting guesses:\\n\", sorted([[word_score(x), x] for x in all_common_words])[0:n])"
   ]
  },
  {
   "cell_type": "code",
   "execution_count": 29,
   "id": "fb2881dd",
   "metadata": {},
   "outputs": [
    {
     "name": "stdout",
     "output_type": "stream",
     "text": [
      "(1) top 50 common_words_except_1a:\n",
      " []\n",
      "\n",
      "=======================================================================================\n",
      "\n",
      "(2) top 50 common_words_except_1b:\n",
      " []\n",
      "\n",
      "=======================================================================================\n",
      "\n",
      "(3) top 50 common_words_except_2a:\n",
      " []\n",
      "\n",
      "=======================================================================================\n",
      "\n",
      "(4) top 50 common_words_except_2b:\n",
      " []\n",
      "\n",
      "=======================================================================================\n",
      "\n",
      "(5) top 50 common_words_row_1:\n",
      " []\n",
      "\n",
      "=======================================================================================\n",
      "\n",
      "(6) top 50 common_words_row_2:\n",
      " []\n",
      "\n",
      "=======================================================================================\n",
      "\n",
      "(7) top 50 common_words_col_a:\n",
      " []\n",
      "\n",
      "=======================================================================================\n",
      "\n",
      "(8) top 50 common_words_col_b:\n",
      " []\n"
     ]
    }
   ],
   "source": [
    "all_common_words_except_1a = list(set(word_list_1b).intersection(word_list_2a).intersection(word_list_2b))\n",
    "all_common_words_except_1b = list(set(word_list_1a).intersection(word_list_2a).intersection(word_list_2b))\n",
    "all_common_words_except_2a = list(set(word_list_1a).intersection(word_list_1b).intersection(word_list_2b))\n",
    "all_common_words_except_2b = list(set(word_list_1a).intersection(word_list_1b).intersection(word_list_2a))\n",
    "\n",
    "all_common_words_row_1 = list(set(word_list_1a).intersection(word_list_1b))\n",
    "all_common_words_row_2 = list(set(word_list_2a).intersection(word_list_2b))\n",
    "all_common_words_col_a = list(set(word_list_1a).intersection(word_list_2a))\n",
    "all_common_words_col_b = list(set(word_list_1b).intersection(word_list_2b))\n",
    "\n",
    "print(f\"(1) top {n} common_words_except_1a:\\n\", sorted([[word_score(x), x] for x in all_common_words_except_1a])[0:n])\n",
    "print(\"\\n=======================================================================================\\n\")\n",
    "print(f\"(2) top {n} common_words_except_1b:\\n\", sorted([[word_score(x), x] for x in all_common_words_except_1b])[0:n])\n",
    "print(\"\\n=======================================================================================\\n\")\n",
    "print(f\"(3) top {n} common_words_except_2a:\\n\", sorted([[word_score(x), x] for x in all_common_words_except_2a])[0:n])\n",
    "print(\"\\n=======================================================================================\\n\")\n",
    "print(f\"(4) top {n} common_words_except_2b:\\n\", sorted([[word_score(x), x] for x in all_common_words_except_2b])[0:n])\n",
    "\n",
    "print(\"\\n=======================================================================================\\n\")\n",
    "print(f\"(5) top {n} common_words_row_1:\\n\", sorted([[word_score(x), x] for x in all_common_words_row_1])[0:n])\n",
    "print(\"\\n=======================================================================================\\n\")\n",
    "print(f\"(6) top {n} common_words_row_2:\\n\", sorted([[word_score(x), x] for x in all_common_words_row_2])[0:n])\n",
    "print(\"\\n=======================================================================================\\n\")\n",
    "print(f\"(7) top {n} common_words_col_a:\\n\", sorted([[word_score(x), x] for x in all_common_words_col_a])[0:n])\n",
    "print(\"\\n=======================================================================================\\n\")\n",
    "print(f\"(8) top {n} common_words_col_b:\\n\", sorted([[word_score(x), x] for x in all_common_words_col_b])[0:n])\n",
    "\n"
   ]
  },
  {
   "cell_type": "code",
   "execution_count": null,
   "id": "241081a6",
   "metadata": {},
   "outputs": [],
   "source": []
  },
  {
   "cell_type": "code",
   "execution_count": null,
   "id": "9e93c1d1",
   "metadata": {},
   "outputs": [],
   "source": []
  }
 ],
 "metadata": {
  "kernelspec": {
   "display_name": "Python 3",
   "language": "python",
   "name": "python3"
  },
  "language_info": {
   "codemirror_mode": {
    "name": "ipython",
    "version": 3
   },
   "file_extension": ".py",
   "mimetype": "text/x-python",
   "name": "python",
   "nbconvert_exporter": "python",
   "pygments_lexer": "ipython3",
   "version": "3.8.8"
  },
  "toc-autonumbering": false,
  "toc-showcode": false,
  "toc-showmarkdowntxt": false
 },
 "nbformat": 4,
 "nbformat_minor": 5
}
