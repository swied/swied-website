{
 "cells": [
  {
   "cell_type": "markdown",
   "metadata": {},
   "source": [
    "## Import python packages"
   ]
  },
  {
   "cell_type": "code",
   "execution_count": 1,
   "metadata": {},
   "outputs": [],
   "source": [
    "import urllib\n",
    "import requests\n",
    "import json\n",
    "from pprint import pprint\n",
    "import pandas as pd\n",
    "import numpy as np\n",
    "from collections import namedtuple\n",
    "import re\n",
    "import matplotlib.pyplot as plt"
   ]
  },
  {
   "cell_type": "markdown",
   "metadata": {},
   "source": [
    "## Define the ticker we wish to analyze"
   ]
  },
  {
   "cell_type": "code",
   "execution_count": 2,
   "metadata": {},
   "outputs": [],
   "source": [
    "ticker = 'PLUG'"
   ]
  },
  {
   "cell_type": "markdown",
   "metadata": {},
   "source": [
    "## Find the CIK number"
   ]
  },
  {
   "cell_type": "markdown",
   "metadata": {},
   "source": [
    "### Request ticker exchange data from the sec.gov API"
   ]
  },
  {
   "cell_type": "code",
   "execution_count": 4,
   "metadata": {},
   "outputs": [
    {
     "name": "stdout",
     "output_type": "stream",
     "text": [
      "Request status code: 200\n",
      "Content Type: application/json\n",
      "Content Length: 213729 bytes\n"
     ]
    }
   ],
   "source": [
    "# Build up the request URL\n",
    "domain = 'https://www.sec.gov'\n",
    "file_path = '/files/company_tickers_exchange.json'\n",
    "url = domain + file_path\n",
    "\n",
    "# Run the API request   \n",
    "request_info = requests.get(url)\n",
    "\n",
    "# Print the returned status code (200 is good, 404 is bad), and other content info.\n",
    "print(\"Request status code:\", request_info.status_code)\n",
    "print(\"Content Type:\", request_info.headers['Content-Type'])\n",
    "print(\"Content Length:\", request_info.headers['Content-Length'], 'bytes')"
   ]
  },
  {
   "cell_type": "code",
   "execution_count": 5,
   "metadata": {},
   "outputs": [
    {
     "name": "stdout",
     "output_type": "stream",
     "text": [
      "Data type: <class 'dict'>\n"
     ]
    }
   ],
   "source": [
    "# Put the requested content into a Python dict object using the `.json()` method\n",
    "request_data = request_info.json()\n",
    "\n",
    "# Verify that the .json() method returned a dict object\n",
    "print(\"Data type:\", type(request_data))"
   ]
  },
  {
   "cell_type": "markdown",
   "metadata": {},
   "source": [
    "### Explore the data that was returned"
   ]
  },
  {
   "cell_type": "code",
   "execution_count": 6,
   "metadata": {},
   "outputs": [
    {
     "name": "stdout",
     "output_type": "stream",
     "text": [
      "request_data: dict_keys(['fields', 'data'])\n"
     ]
    }
   ],
   "source": [
    "# We know that request_data is a dictionary, so let's list all of its keys. \n",
    "print(\"request_data:\", request_data.keys())"
   ]
  },
  {
   "cell_type": "code",
   "execution_count": 7,
   "metadata": {},
   "outputs": [
    {
     "data": {
      "text/plain": [
       "['cik', 'name', 'ticker', 'exchange']"
      ]
     },
     "execution_count": 7,
     "metadata": {},
     "output_type": "execute_result"
    }
   ],
   "source": [
    "request_data['fields']"
   ]
  },
  {
   "cell_type": "code",
   "execution_count": 8,
   "metadata": {},
   "outputs": [
    {
     "data": {
      "text/plain": [
       "[[320193, 'Apple Inc.', 'AAPL', 'Nasdaq'],\n",
       " [789019, 'MICROSOFT CORP', 'MSFT', 'Nasdaq'],\n",
       " [1018724, 'AMAZON COM INC', 'AMZN', 'Nasdaq'],\n",
       " [1067983, 'BERKSHIRE HATHAWAY INC', 'BRK-B', 'NYSE'],\n",
       " [731766, 'UNITEDHEALTH GROUP INC', 'UNH', 'NYSE'],\n",
       " [34088, 'EXXON MOBIL CORP', 'XOM', 'NYSE'],\n",
       " [200406, 'JOHNSON & JOHNSON', 'JNJ', 'NYSE'],\n",
       " [104169, 'Walmart Inc.', 'WMT', 'NYSE'],\n",
       " [19617, 'JPMORGAN CHASE & CO', 'JPM', 'NYSE'],\n",
       " [884394, 'SPDR S&P 500 ETF TRUST', 'SPY', 'NYSE']]"
      ]
     },
     "execution_count": 8,
     "metadata": {},
     "output_type": "execute_result"
    }
   ],
   "source": [
    "request_data['data'][0:10]"
   ]
  },
  {
   "cell_type": "markdown",
   "metadata": {},
   "source": [
    "### Create a Pandas dataframe from the *request_data* dictionary"
   ]
  },
  {
   "cell_type": "code",
   "execution_count": 9,
   "metadata": {},
   "outputs": [
    {
     "data": {
      "text/html": [
       "<div>\n",
       "<style scoped>\n",
       "    .dataframe tbody tr th:only-of-type {\n",
       "        vertical-align: middle;\n",
       "    }\n",
       "\n",
       "    .dataframe tbody tr th {\n",
       "        vertical-align: top;\n",
       "    }\n",
       "\n",
       "    .dataframe thead th {\n",
       "        text-align: right;\n",
       "    }\n",
       "</style>\n",
       "<table border=\"1\" class=\"dataframe\">\n",
       "  <thead>\n",
       "    <tr style=\"text-align: right;\">\n",
       "      <th></th>\n",
       "      <th>cik</th>\n",
       "      <th>name</th>\n",
       "      <th>exchange</th>\n",
       "    </tr>\n",
       "    <tr>\n",
       "      <th>ticker</th>\n",
       "      <th></th>\n",
       "      <th></th>\n",
       "      <th></th>\n",
       "    </tr>\n",
       "  </thead>\n",
       "  <tbody>\n",
       "    <tr>\n",
       "      <th>AAPL</th>\n",
       "      <td>320193</td>\n",
       "      <td>Apple Inc.</td>\n",
       "      <td>Nasdaq</td>\n",
       "    </tr>\n",
       "    <tr>\n",
       "      <th>MSFT</th>\n",
       "      <td>789019</td>\n",
       "      <td>MICROSOFT CORP</td>\n",
       "      <td>Nasdaq</td>\n",
       "    </tr>\n",
       "    <tr>\n",
       "      <th>AMZN</th>\n",
       "      <td>1018724</td>\n",
       "      <td>AMAZON COM INC</td>\n",
       "      <td>Nasdaq</td>\n",
       "    </tr>\n",
       "    <tr>\n",
       "      <th>BRK-B</th>\n",
       "      <td>1067983</td>\n",
       "      <td>BERKSHIRE HATHAWAY INC</td>\n",
       "      <td>NYSE</td>\n",
       "    </tr>\n",
       "    <tr>\n",
       "      <th>UNH</th>\n",
       "      <td>731766</td>\n",
       "      <td>UNITEDHEALTH GROUP INC</td>\n",
       "      <td>NYSE</td>\n",
       "    </tr>\n",
       "  </tbody>\n",
       "</table>\n",
       "</div>"
      ],
      "text/plain": [
       "            cik                    name exchange\n",
       "ticker                                          \n",
       "AAPL     320193              Apple Inc.   Nasdaq\n",
       "MSFT     789019          MICROSOFT CORP   Nasdaq\n",
       "AMZN    1018724          AMAZON COM INC   Nasdaq\n",
       "BRK-B   1067983  BERKSHIRE HATHAWAY INC     NYSE\n",
       "UNH      731766  UNITEDHEALTH GROUP INC     NYSE"
      ]
     },
     "execution_count": 9,
     "metadata": {},
     "output_type": "execute_result"
    }
   ],
   "source": [
    "# Create a new dataframe\n",
    "df_tickers = (\n",
    "    pd.DataFrame(data=request_data['data'], \n",
    "                 columns=request_data['fields'])\n",
    "    .set_index('ticker')\n",
    ")\n",
    "\n",
    "# Display the top few rows\n",
    "df_tickers.head()"
   ]
  },
  {
   "cell_type": "code",
   "execution_count": 26,
   "metadata": {},
   "outputs": [
    {
     "data": {
      "text/html": [
       "<div>\n",
       "<style scoped>\n",
       "    .dataframe tbody tr th:only-of-type {\n",
       "        vertical-align: middle;\n",
       "    }\n",
       "\n",
       "    .dataframe tbody tr th {\n",
       "        vertical-align: top;\n",
       "    }\n",
       "\n",
       "    .dataframe thead th {\n",
       "        text-align: right;\n",
       "    }\n",
       "</style>\n",
       "<table border=\"1\" class=\"dataframe\">\n",
       "  <thead>\n",
       "    <tr style=\"text-align: right;\">\n",
       "      <th></th>\n",
       "      <th>cik</th>\n",
       "      <th>name</th>\n",
       "      <th>exchange</th>\n",
       "    </tr>\n",
       "    <tr>\n",
       "      <th>ticker</th>\n",
       "      <th></th>\n",
       "      <th></th>\n",
       "      <th></th>\n",
       "    </tr>\n",
       "  </thead>\n",
       "  <tbody>\n",
       "    <tr>\n",
       "      <th>PLUG</th>\n",
       "      <td>1093691</td>\n",
       "      <td>PLUG POWER INC</td>\n",
       "      <td>Nasdaq</td>\n",
       "    </tr>\n",
       "  </tbody>\n",
       "</table>\n",
       "</div>"
      ],
      "text/plain": [
       "            cik            name exchange\n",
       "ticker                                  \n",
       "PLUG    1093691  PLUG POWER INC   Nasdaq"
      ]
     },
     "execution_count": 26,
     "metadata": {},
     "output_type": "execute_result"
    }
   ],
   "source": [
    "# Slice the dataframe to show only the row where ticker=='AAPL'\n",
    "df_tickers.query(f\"ticker=='{ticker}'\")"
   ]
  },
  {
   "cell_type": "markdown",
   "metadata": {},
   "source": [
    "### Create a function, so that we can get the values for any ticker"
   ]
  },
  {
   "cell_type": "code",
   "execution_count": 11,
   "metadata": {},
   "outputs": [],
   "source": [
    "def get_cik_string(ticker_data, ticker_symbol):\n",
    "    ticker_symbol = ticker_symbol.upper()\n",
    "    data_slice = ticker_data.loc[[ticker_symbol],['cik']]\n",
    "    cik_value = data_slice.values[0][0]\n",
    "    cik_string = 'CIK' + str(cik_value).rjust(10, '0')\n",
    "    return cik_string"
   ]
  },
  {
   "cell_type": "code",
   "execution_count": 29,
   "metadata": {},
   "outputs": [
    {
     "name": "stdout",
     "output_type": "stream",
     "text": [
      "ticker: PLUG\n",
      "CIK: CIK0001093691\n"
     ]
    }
   ],
   "source": [
    "# Example for our ticker\n",
    "print(\"ticker:\", ticker)\n",
    "print(\"CIK:\",    get_cik_string(df_tickers, ticker))"
   ]
  },
  {
   "cell_type": "markdown",
   "metadata": {},
   "source": [
    "## Get financial data from data.sec.gov api"
   ]
  },
  {
   "cell_type": "code",
   "execution_count": 13,
   "metadata": {},
   "outputs": [
    {
     "name": "stdout",
     "output_type": "stream",
     "text": [
      "URL: https://data.sec.gov/api/xbrl/companyconcept/CIK0001093691/us-gaap/Assets.json\n",
      "Request status code: 200\n",
      "Content Type: application/json\n",
      "Content Length: 1826 bytes\n"
     ]
    }
   ],
   "source": [
    "# Build up the request URL\n",
    "cik = get_cik_string(df_tickers, ticker)\n",
    "tag = 'Assets'\n",
    "domain = 'https://data.sec.gov'\n",
    "file_path = f\"/api/xbrl/companyconcept/{cik}/us-gaap/{tag}.json\"\n",
    "url = domain + file_path\n",
    "print(\"URL:\", url)\n",
    "\n",
    "# Run the API request   \n",
    "request_tag_data = requests.get(url, headers={'User-Agent': \"mojos-brim-05@icloud.com\"})\n",
    "\n",
    "# Print the returned status code (200 is good, 404 is bad), and other content info.\n",
    "print(\"Request status code:\", request_tag_data.status_code)\n",
    "print(\"Content Type:\", request_tag_data.headers['Content-Type'])\n",
    "print(\"Content Length:\", request_tag_data.headers['Content-Length'], 'bytes')"
   ]
  },
  {
   "cell_type": "code",
   "execution_count": 14,
   "metadata": {},
   "outputs": [],
   "source": [
    "tag_data = request_tag_data.json()"
   ]
  },
  {
   "cell_type": "code",
   "execution_count": null,
   "metadata": {},
   "outputs": [],
   "source": []
  },
  {
   "cell_type": "code",
   "execution_count": 40,
   "metadata": {},
   "outputs": [
    {
     "name": "stdout",
     "output_type": "stream",
     "text": [
      "{'cik': 1093691,\n",
      " 'description': 'Sum of the carrying amounts as of the balance sheet date of '\n",
      "                'all assets that are recognized. Assets are probable future '\n",
      "                'economic benefits obtained or controlled by an entity as a '\n",
      "                'result of past transactions or events.',\n",
      " 'entityName': 'Plug Power Inc',\n",
      " 'label': 'Assets',\n",
      " 'tag': 'Assets',\n",
      " 'taxonomy': 'us-gaap',\n",
      " 'units': {'USD': [...]}}\n"
     ]
    }
   ],
   "source": [
    "pprint(tag_data, depth=2)"
   ]
  },
  {
   "cell_type": "code",
   "execution_count": 15,
   "metadata": {},
   "outputs": [],
   "source": [
    "df_tag_data = pd.DataFrame.from_dict(tag_data['units']['USD'])"
   ]
  },
  {
   "cell_type": "code",
   "execution_count": 16,
   "metadata": {},
   "outputs": [
    {
     "data": {
      "text/html": [
       "<div>\n",
       "<style scoped>\n",
       "    .dataframe tbody tr th:only-of-type {\n",
       "        vertical-align: middle;\n",
       "    }\n",
       "\n",
       "    .dataframe tbody tr th {\n",
       "        vertical-align: top;\n",
       "    }\n",
       "\n",
       "    .dataframe thead th {\n",
       "        text-align: right;\n",
       "    }\n",
       "</style>\n",
       "<table border=\"1\" class=\"dataframe\">\n",
       "  <thead>\n",
       "    <tr style=\"text-align: right;\">\n",
       "      <th></th>\n",
       "      <th>end</th>\n",
       "      <th>val</th>\n",
       "      <th>accn</th>\n",
       "      <th>fy</th>\n",
       "      <th>fp</th>\n",
       "      <th>form</th>\n",
       "      <th>filed</th>\n",
       "      <th>frame</th>\n",
       "    </tr>\n",
       "  </thead>\n",
       "  <tbody>\n",
       "    <tr>\n",
       "      <th>0</th>\n",
       "      <td>2010-12-31</td>\n",
       "      <td>59176925</td>\n",
       "      <td>0001003297-11-000292</td>\n",
       "      <td>2011</td>\n",
       "      <td>Q2</td>\n",
       "      <td>10-Q</td>\n",
       "      <td>2011-08-11</td>\n",
       "      <td>NaN</td>\n",
       "    </tr>\n",
       "    <tr>\n",
       "      <th>1</th>\n",
       "      <td>2010-12-31</td>\n",
       "      <td>59176925</td>\n",
       "      <td>0001003297-11-000354</td>\n",
       "      <td>2011</td>\n",
       "      <td>Q3</td>\n",
       "      <td>10-Q</td>\n",
       "      <td>2011-11-09</td>\n",
       "      <td>NaN</td>\n",
       "    </tr>\n",
       "    <tr>\n",
       "      <th>2</th>\n",
       "      <td>2010-12-31</td>\n",
       "      <td>59176925</td>\n",
       "      <td>0001003297-12-000141</td>\n",
       "      <td>2011</td>\n",
       "      <td>FY</td>\n",
       "      <td>10-K</td>\n",
       "      <td>2012-03-30</td>\n",
       "      <td>CY2010Q4I</td>\n",
       "    </tr>\n",
       "    <tr>\n",
       "      <th>3</th>\n",
       "      <td>2011-06-30</td>\n",
       "      <td>59146803</td>\n",
       "      <td>0001003297-11-000292</td>\n",
       "      <td>2011</td>\n",
       "      <td>Q2</td>\n",
       "      <td>10-Q</td>\n",
       "      <td>2011-08-11</td>\n",
       "      <td>CY2011Q2I</td>\n",
       "    </tr>\n",
       "    <tr>\n",
       "      <th>4</th>\n",
       "      <td>2011-09-30</td>\n",
       "      <td>53312251</td>\n",
       "      <td>0001003297-11-000354</td>\n",
       "      <td>2011</td>\n",
       "      <td>Q3</td>\n",
       "      <td>10-Q</td>\n",
       "      <td>2011-11-09</td>\n",
       "      <td>CY2011Q3I</td>\n",
       "    </tr>\n",
       "    <tr>\n",
       "      <th>...</th>\n",
       "      <td>...</td>\n",
       "      <td>...</td>\n",
       "      <td>...</td>\n",
       "      <td>...</td>\n",
       "      <td>...</td>\n",
       "      <td>...</td>\n",
       "      <td>...</td>\n",
       "      <td>...</td>\n",
       "    </tr>\n",
       "    <tr>\n",
       "      <th>101</th>\n",
       "      <td>2021-12-31</td>\n",
       "      <td>5950076000</td>\n",
       "      <td>0001558370-22-002620</td>\n",
       "      <td>2021</td>\n",
       "      <td>FY</td>\n",
       "      <td>10-K</td>\n",
       "      <td>2022-03-01</td>\n",
       "      <td>NaN</td>\n",
       "    </tr>\n",
       "    <tr>\n",
       "      <th>102</th>\n",
       "      <td>2021-12-31</td>\n",
       "      <td>5950076000</td>\n",
       "      <td>0001558370-22-007818</td>\n",
       "      <td>2022</td>\n",
       "      <td>Q1</td>\n",
       "      <td>10-Q</td>\n",
       "      <td>2022-05-09</td>\n",
       "      <td>NaN</td>\n",
       "    </tr>\n",
       "    <tr>\n",
       "      <th>103</th>\n",
       "      <td>2021-12-31</td>\n",
       "      <td>5950076000</td>\n",
       "      <td>0001558370-22-012895</td>\n",
       "      <td>2022</td>\n",
       "      <td>Q2</td>\n",
       "      <td>10-Q</td>\n",
       "      <td>2022-08-09</td>\n",
       "      <td>CY2021Q4I</td>\n",
       "    </tr>\n",
       "    <tr>\n",
       "      <th>104</th>\n",
       "      <td>2022-03-31</td>\n",
       "      <td>5803805000</td>\n",
       "      <td>0001558370-22-007818</td>\n",
       "      <td>2022</td>\n",
       "      <td>Q1</td>\n",
       "      <td>10-Q</td>\n",
       "      <td>2022-05-09</td>\n",
       "      <td>CY2022Q1I</td>\n",
       "    </tr>\n",
       "    <tr>\n",
       "      <th>105</th>\n",
       "      <td>2022-06-30</td>\n",
       "      <td>5734404000</td>\n",
       "      <td>0001558370-22-012895</td>\n",
       "      <td>2022</td>\n",
       "      <td>Q2</td>\n",
       "      <td>10-Q</td>\n",
       "      <td>2022-08-09</td>\n",
       "      <td>CY2022Q2I</td>\n",
       "    </tr>\n",
       "  </tbody>\n",
       "</table>\n",
       "<p>106 rows × 8 columns</p>\n",
       "</div>"
      ],
      "text/plain": [
       "            end         val                  accn    fy  fp  form       filed  \\\n",
       "0    2010-12-31    59176925  0001003297-11-000292  2011  Q2  10-Q  2011-08-11   \n",
       "1    2010-12-31    59176925  0001003297-11-000354  2011  Q3  10-Q  2011-11-09   \n",
       "2    2010-12-31    59176925  0001003297-12-000141  2011  FY  10-K  2012-03-30   \n",
       "3    2011-06-30    59146803  0001003297-11-000292  2011  Q2  10-Q  2011-08-11   \n",
       "4    2011-09-30    53312251  0001003297-11-000354  2011  Q3  10-Q  2011-11-09   \n",
       "..          ...         ...                   ...   ...  ..   ...         ...   \n",
       "101  2021-12-31  5950076000  0001558370-22-002620  2021  FY  10-K  2022-03-01   \n",
       "102  2021-12-31  5950076000  0001558370-22-007818  2022  Q1  10-Q  2022-05-09   \n",
       "103  2021-12-31  5950076000  0001558370-22-012895  2022  Q2  10-Q  2022-08-09   \n",
       "104  2022-03-31  5803805000  0001558370-22-007818  2022  Q1  10-Q  2022-05-09   \n",
       "105  2022-06-30  5734404000  0001558370-22-012895  2022  Q2  10-Q  2022-08-09   \n",
       "\n",
       "         frame  \n",
       "0          NaN  \n",
       "1          NaN  \n",
       "2    CY2010Q4I  \n",
       "3    CY2011Q2I  \n",
       "4    CY2011Q3I  \n",
       "..         ...  \n",
       "101        NaN  \n",
       "102        NaN  \n",
       "103  CY2021Q4I  \n",
       "104  CY2022Q1I  \n",
       "105  CY2022Q2I  \n",
       "\n",
       "[106 rows x 8 columns]"
      ]
     },
     "execution_count": 16,
     "metadata": {},
     "output_type": "execute_result"
    }
   ],
   "source": [
    "df_tag_data"
   ]
  },
  {
   "cell_type": "code",
   "execution_count": 17,
   "metadata": {},
   "outputs": [
    {
     "data": {
      "text/plain": [
       "<function isinstance(obj, class_or_tuple, /)>"
      ]
     },
     "execution_count": 17,
     "metadata": {},
     "output_type": "execute_result"
    }
   ],
   "source": [
    "isinstance"
   ]
  },
  {
   "cell_type": "code",
   "execution_count": 18,
   "metadata": {},
   "outputs": [
    {
     "data": {
      "text/plain": [
       "True"
      ]
     },
     "execution_count": 18,
     "metadata": {},
     "output_type": "execute_result"
    }
   ],
   "source": [
    "bool(isinstance(re.search(r'^CY', 'CY2011Q2I'), re.Match))"
   ]
  },
  {
   "cell_type": "code",
   "execution_count": 19,
   "metadata": {},
   "outputs": [
    {
     "data": {
      "text/html": [
       "<div>\n",
       "<style scoped>\n",
       "    .dataframe tbody tr th:only-of-type {\n",
       "        vertical-align: middle;\n",
       "    }\n",
       "\n",
       "    .dataframe tbody tr th {\n",
       "        vertical-align: top;\n",
       "    }\n",
       "\n",
       "    .dataframe thead th {\n",
       "        text-align: right;\n",
       "    }\n",
       "</style>\n",
       "<table border=\"1\" class=\"dataframe\">\n",
       "  <thead>\n",
       "    <tr style=\"text-align: right;\">\n",
       "      <th></th>\n",
       "      <th>end</th>\n",
       "      <th>val</th>\n",
       "    </tr>\n",
       "  </thead>\n",
       "  <tbody>\n",
       "    <tr>\n",
       "      <th>99</th>\n",
       "      <td>2021-06-30</td>\n",
       "      <td>5788826000</td>\n",
       "    </tr>\n",
       "    <tr>\n",
       "      <th>100</th>\n",
       "      <td>2021-09-30</td>\n",
       "      <td>5740100000</td>\n",
       "    </tr>\n",
       "    <tr>\n",
       "      <th>103</th>\n",
       "      <td>2021-12-31</td>\n",
       "      <td>5950076000</td>\n",
       "    </tr>\n",
       "    <tr>\n",
       "      <th>104</th>\n",
       "      <td>2022-03-31</td>\n",
       "      <td>5803805000</td>\n",
       "    </tr>\n",
       "    <tr>\n",
       "      <th>105</th>\n",
       "      <td>2022-06-30</td>\n",
       "      <td>5734404000</td>\n",
       "    </tr>\n",
       "  </tbody>\n",
       "</table>\n",
       "</div>"
      ],
      "text/plain": [
       "            end         val\n",
       "99   2021-06-30  5788826000\n",
       "100  2021-09-30  5740100000\n",
       "103  2021-12-31  5950076000\n",
       "104  2022-03-31  5803805000\n",
       "105  2022-06-30  5734404000"
      ]
     },
     "execution_count": 19,
     "metadata": {},
     "output_type": "execute_result"
    }
   ],
   "source": [
    "starts_with_cy = lambda x: bool(isinstance(re.search(r'^CY', x), re.Match))\n",
    "year_label = lambda x: 'Current Year' if starts_with_cy(x) else 'Prior Year'\n",
    "\n",
    "df_plot_data = (\n",
    "    df_tag_data\n",
    "    .query(\"form=='10-Q'\")\n",
    "    .assign(yr_mon = lambda x: [f\"{y[0]}-{y[1]}\" for y in zip(x.fy, x.fp)] )\n",
    "    .assign(filter_flag = lambda x: [starts_with_cy(str(y)) for y in x.frame])\n",
    "    .query(\"filter_flag==True\")\n",
    "    .filter(['end', 'val'])\n",
    "    .sort_values(by=['end'])\n",
    ")\n",
    "\n",
    "df_plot_data.tail()"
   ]
  },
  {
   "cell_type": "code",
   "execution_count": 25,
   "metadata": {},
   "outputs": [
    {
     "data": {
      "image/png": "[encoded data removed]",
      "text/plain": [
       "<Figure size 720x360 with 1 Axes>"
      ]
     },
     "metadata": {
      "needs_background": "light"
     },
     "output_type": "display_data"
    }
   ],
   "source": [
    "df_plot_data.plot(kind = 'bar', x = 'end', y = 'val', figsize=(10, 5), title = f\"{ticker} {tag}\")\n",
    "plt.show()"
   ]
  },
  {
   "cell_type": "code",
   "execution_count": null,
   "metadata": {},
   "outputs": [],
   "source": []
  },
  {
   "cell_type": "code",
   "execution_count": null,
   "metadata": {},
   "outputs": [],
   "source": []
  }
 ],
 "metadata": {
  "kernelspec": {
   "display_name": "Python 3",
   "language": "python",
   "name": "python3"
  },
  "language_info": {
   "codemirror_mode": {
    "name": "ipython",
    "version": 3
   },
   "file_extension": ".py",
   "mimetype": "text/x-python",
   "name": "python",
   "nbconvert_exporter": "python",
   "pygments_lexer": "ipython3",
   "version": "3.8.5"
  }
 },
 "nbformat": 4,
 "nbformat_minor": 4
}
