{
 "cells": [
  {
   "cell_type": "raw",
   "metadata": {},
   "source": [
    "---\n",
    "title: Get financial reporting data, by stock ticker, from the data.sec.gov API\n",
    "description: A notebook, with code, showing how to pull data from a couple of sec.gov web API’s\n",
    "author: Scott Wied\n",
    "date: 11/06/2022\n",
    "categories:\n",
    "  - Pandas\n",
    "  - API's\n",
    "  - Matplotlib\n",
    "  - Finance\n",
    "  - Python\n",
    "image: \"image.png\"\n",
    "format:\n",
    "  html:\n",
    "    code-fold: false\n",
    "    page-layout: article\n",
    "number-sections: true\n",
    "toc: true\n",
    "toc-location: left\n",
    "code-line-numbers: true\n",
    "execute:\n",
    "  warning: false\n",
    "jupyter: python3\n",
    "---"
   ]
  },
  {
   "cell_type": "markdown",
   "metadata": {},
   "source": [
    "## Import python packages"
   ]
  },
  {
   "cell_type": "code",
   "execution_count": 1,
   "metadata": {},
   "outputs": [],
   "source": [
    "import requests\n",
    "import json\n",
    "from pprint import pprint\n",
    "import pandas as pd\n",
    "import numpy as np\n",
    "import re\n",
    "import matplotlib.pyplot as plt"
   ]
  },
  {
   "cell_type": "markdown",
   "metadata": {},
   "source": [
    "## Parameters"
   ]
  },
  {
   "cell_type": "code",
   "execution_count": 18,
   "metadata": {},
   "outputs": [],
   "source": [
    "# Which company do you wish to track?\n",
    "ticker = 'AAPL'\n",
    "\n",
    "# An email address needs to be included in the URL of the API\n",
    "email_address = 'your-email@example.com'  "
   ]
  },
  {
   "cell_type": "markdown",
   "metadata": {},
   "source": [
    "## Find the CIK number for the chosen stock ticker"
   ]
  },
  {
   "cell_type": "markdown",
   "metadata": {},
   "source": [
    "### Query the sec.gov API"
   ]
  },
  {
   "cell_type": "code",
   "execution_count": 3,
   "metadata": {},
   "outputs": [
    {
     "name": "stdout",
     "output_type": "stream",
     "text": [
      "Request status code: 200\n",
      "Content Type: application/json\n",
      "Content Length: 214545 bytes\n"
     ]
    }
   ],
   "source": [
    "# Run the API request   \n",
    "request_info = (\n",
    "    requests\n",
    "    .get('https://sec.gov/files/company_tickers_exchange.json')\n",
    ")\n",
    "\n",
    "# Print the returned status code (200 is good, 404 is bad)\n",
    "print(\"Request status code:\", request_info.status_code)\n",
    "print(\"Content Type:\", request_info.headers['Content-Type'])\n",
    "print(\"Content Length:\", request_info.headers['Content-Length'], \n",
    "      'bytes')"
   ]
  },
  {
   "cell_type": "code",
   "execution_count": 4,
   "metadata": {},
   "outputs": [],
   "source": [
    "# Convert json data to Python dict format\n",
    "request_data = request_info.json()"
   ]
  },
  {
   "cell_type": "markdown",
   "metadata": {},
   "source": [
    "### Explore the data that was returned"
   ]
  },
  {
   "cell_type": "code",
   "execution_count": 5,
   "metadata": {},
   "outputs": [
    {
     "name": "stdout",
     "output_type": "stream",
     "text": [
      "request_data: dict_keys(['fields', 'data'])\n"
     ]
    }
   ],
   "source": [
    "# List the dictionary keys \n",
    "print(\"request_data:\", request_data.keys())"
   ]
  },
  {
   "cell_type": "code",
   "execution_count": 6,
   "metadata": {},
   "outputs": [
    {
     "data": {
      "text/plain": [
       "['cik', 'name', 'ticker', 'exchange']"
      ]
     },
     "execution_count": 6,
     "metadata": {},
     "output_type": "execute_result"
    }
   ],
   "source": [
    "request_data['fields']"
   ]
  },
  {
   "cell_type": "code",
   "execution_count": 7,
   "metadata": {},
   "outputs": [
    {
     "data": {
      "text/plain": [
       "[[320193, 'Apple Inc.', 'AAPL', 'Nasdaq'],\n",
       " [789019, 'MICROSOFT CORP', 'MSFT', 'Nasdaq'],\n",
       " [1018724, 'AMAZON COM INC', 'AMZN', 'Nasdaq'],\n",
       " [1067983, 'BERKSHIRE HATHAWAY INC', 'BRK-B', 'NYSE'],\n",
       " [731766, 'UNITEDHEALTH GROUP INC', 'UNH', 'NYSE'],\n",
       " [34088, 'EXXON MOBIL CORP', 'XOM', 'NYSE'],\n",
       " [200406, 'JOHNSON & JOHNSON', 'JNJ', 'NYSE'],\n",
       " [104169, 'Walmart Inc.', 'WMT', 'NYSE'],\n",
       " [19617, 'JPMORGAN CHASE & CO', 'JPM', 'NYSE'],\n",
       " [93410, 'CHEVRON CORP', 'CVX', 'NYSE']]"
      ]
     },
     "execution_count": 7,
     "metadata": {},
     "output_type": "execute_result"
    }
   ],
   "source": [
    "request_data['data'][0:10]"
   ]
  },
  {
   "cell_type": "markdown",
   "metadata": {},
   "source": [
    "### Create a Pandas dataframe from the API content"
   ]
  },
  {
   "cell_type": "code",
   "execution_count": 8,
   "metadata": {},
   "outputs": [
    {
     "data": {
      "text/html": [
       "<div>\n",
       "<style scoped>\n",
       "    .dataframe tbody tr th:only-of-type {\n",
       "        vertical-align: middle;\n",
       "    }\n",
       "\n",
       "    .dataframe tbody tr th {\n",
       "        vertical-align: top;\n",
       "    }\n",
       "\n",
       "    .dataframe thead th {\n",
       "        text-align: right;\n",
       "    }\n",
       "</style>\n",
       "<table border=\"1\" class=\"dataframe\">\n",
       "  <thead>\n",
       "    <tr style=\"text-align: right;\">\n",
       "      <th></th>\n",
       "      <th>cik</th>\n",
       "      <th>name</th>\n",
       "      <th>exchange</th>\n",
       "    </tr>\n",
       "    <tr>\n",
       "      <th>ticker</th>\n",
       "      <th></th>\n",
       "      <th></th>\n",
       "      <th></th>\n",
       "    </tr>\n",
       "  </thead>\n",
       "  <tbody>\n",
       "    <tr>\n",
       "      <th>AAPL</th>\n",
       "      <td>320193</td>\n",
       "      <td>Apple Inc.</td>\n",
       "      <td>Nasdaq</td>\n",
       "    </tr>\n",
       "    <tr>\n",
       "      <th>MSFT</th>\n",
       "      <td>789019</td>\n",
       "      <td>MICROSOFT CORP</td>\n",
       "      <td>Nasdaq</td>\n",
       "    </tr>\n",
       "    <tr>\n",
       "      <th>AMZN</th>\n",
       "      <td>1018724</td>\n",
       "      <td>AMAZON COM INC</td>\n",
       "      <td>Nasdaq</td>\n",
       "    </tr>\n",
       "    <tr>\n",
       "      <th>BRK-B</th>\n",
       "      <td>1067983</td>\n",
       "      <td>BERKSHIRE HATHAWAY INC</td>\n",
       "      <td>NYSE</td>\n",
       "    </tr>\n",
       "    <tr>\n",
       "      <th>UNH</th>\n",
       "      <td>731766</td>\n",
       "      <td>UNITEDHEALTH GROUP INC</td>\n",
       "      <td>NYSE</td>\n",
       "    </tr>\n",
       "  </tbody>\n",
       "</table>\n",
       "</div>"
      ],
      "text/plain": [
       "            cik                    name exchange\n",
       "ticker                                          \n",
       "AAPL     320193              Apple Inc.   Nasdaq\n",
       "MSFT     789019          MICROSOFT CORP   Nasdaq\n",
       "AMZN    1018724          AMAZON COM INC   Nasdaq\n",
       "BRK-B   1067983  BERKSHIRE HATHAWAY INC     NYSE\n",
       "UNH      731766  UNITEDHEALTH GROUP INC     NYSE"
      ]
     },
     "execution_count": 8,
     "metadata": {},
     "output_type": "execute_result"
    }
   ],
   "source": [
    "# Create a new dataframe\n",
    "df_tickers = (\n",
    "    pd.DataFrame(data=request_data['data'], \n",
    "                 columns=request_data['fields'])\n",
    "    .set_index('ticker')\n",
    ")\n",
    "\n",
    "# Display the top few rows\n",
    "df_tickers.head()"
   ]
  },
  {
   "cell_type": "code",
   "execution_count": 9,
   "metadata": {},
   "outputs": [
    {
     "data": {
      "text/html": [
       "<div>\n",
       "<style scoped>\n",
       "    .dataframe tbody tr th:only-of-type {\n",
       "        vertical-align: middle;\n",
       "    }\n",
       "\n",
       "    .dataframe tbody tr th {\n",
       "        vertical-align: top;\n",
       "    }\n",
       "\n",
       "    .dataframe thead th {\n",
       "        text-align: right;\n",
       "    }\n",
       "</style>\n",
       "<table border=\"1\" class=\"dataframe\">\n",
       "  <thead>\n",
       "    <tr style=\"text-align: right;\">\n",
       "      <th></th>\n",
       "      <th>cik</th>\n",
       "      <th>name</th>\n",
       "      <th>exchange</th>\n",
       "    </tr>\n",
       "    <tr>\n",
       "      <th>ticker</th>\n",
       "      <th></th>\n",
       "      <th></th>\n",
       "      <th></th>\n",
       "    </tr>\n",
       "  </thead>\n",
       "  <tbody>\n",
       "    <tr>\n",
       "      <th>AAPL</th>\n",
       "      <td>320193</td>\n",
       "      <td>Apple Inc.</td>\n",
       "      <td>Nasdaq</td>\n",
       "    </tr>\n",
       "  </tbody>\n",
       "</table>\n",
       "</div>"
      ],
      "text/plain": [
       "           cik        name exchange\n",
       "ticker                             \n",
       "AAPL    320193  Apple Inc.   Nasdaq"
      ]
     },
     "execution_count": 9,
     "metadata": {},
     "output_type": "execute_result"
    }
   ],
   "source": [
    "# Slice the dataframe to show only the row where ticker=='AAPL'\n",
    "df_tickers.query(f\"ticker=='{ticker}'\")"
   ]
  },
  {
   "cell_type": "markdown",
   "metadata": {},
   "source": [
    "### Create a function to pull data for a single ticker and format the CIK as a string\n",
    "\n",
    "This is necessary because in the next section we will need to add a formatted CID to the API call."
   ]
  },
  {
   "cell_type": "code",
   "execution_count": 10,
   "metadata": {},
   "outputs": [],
   "source": [
    "def get_cik_string(ticker_data, ticker_symbol):\n",
    "    ticker_symbol = ticker_symbol.upper()\n",
    "    data_slice = ticker_data.loc[[ticker_symbol],['cik']]\n",
    "    cik_value = data_slice.values[0][0]\n",
    "    cik_string = 'CIK' + str(cik_value).rjust(10, '0')\n",
    "    return cik_string"
   ]
  },
  {
   "cell_type": "code",
   "execution_count": 11,
   "metadata": {},
   "outputs": [
    {
     "name": "stdout",
     "output_type": "stream",
     "text": [
      "ticker: AAPL\n",
      "CIK: CIK0000320193\n"
     ]
    }
   ],
   "source": [
    "# Example for our ticker\n",
    "print(\"ticker:\", ticker)\n",
    "print(\"CIK:\",    get_cik_string(df_tickers, ticker))"
   ]
  },
  {
   "cell_type": "markdown",
   "metadata": {},
   "source": [
    "## Get financial data from the [data.sec.gov api](https://www.sec.gov/edgar/sec-api-documentation) for a specific [XBRL line item tag](https://xbrl.us/data-rule/dqc_0015-lepr/)"
   ]
  },
  {
   "cell_type": "code",
   "execution_count": 22,
   "metadata": {},
   "outputs": [
    {
     "name": "stdout",
     "output_type": "stream",
     "text": [
      "Request status code: 200\n",
      "Content Type: application/json\n",
      "Content Length: 2052 bytes\n"
     ]
    }
   ],
   "source": [
    "# Build up the request URL\n",
    "cik = get_cik_string(df_tickers, ticker)\n",
    "tag = 'Assets'\n",
    "domain = 'https://data.sec.gov'\n",
    "url = f\"{domain}/api/xbrl/companyconcept/{cik}/us-gaap/{tag}.json\"\n",
    "\n",
    "# Run the API request   \n",
    "request_tag_data = (requests\n",
    "                    .get(url, \n",
    "                         headers={'User-Agent': email_address})\n",
    "                   )\n",
    "\n",
    "# Print the status code (200 is good, 404 is bad)\n",
    "print(\"Request status code:\", request_tag_data.status_code)\n",
    "print(\"Content Type:\", request_tag_data.headers['Content-Type'])\n",
    "print(\"Content Length:\", \n",
    "      request_tag_data.headers['Content-Length'], 'bytes')"
   ]
  },
  {
   "cell_type": "code",
   "execution_count": 13,
   "metadata": {},
   "outputs": [
    {
     "name": "stdout",
     "output_type": "stream",
     "text": [
      "{'cik': 320193,\n",
      " 'description': 'Sum of the carrying amounts as of the balance sheet date of '\n",
      "                'all assets that are recognized. Assets are probable future '\n",
      "                'economic benefits obtained or controlled by an entity as a '\n",
      "                'result of past transactions or events.',\n",
      " 'entityName': 'Apple Inc.',\n",
      " 'label': 'Assets',\n",
      " 'tag': 'Assets',\n",
      " 'taxonomy': 'us-gaap',\n",
      " 'units': {'USD': [...]}}\n"
     ]
    }
   ],
   "source": [
    "tag_data = request_tag_data.json()\n",
    "\n",
    "pprint(tag_data, depth=2)"
   ]
  },
  {
   "cell_type": "code",
   "execution_count": 26,
   "metadata": {},
   "outputs": [
    {
     "data": {
      "text/html": [
       "<div>\n",
       "<style scoped>\n",
       "    .dataframe tbody tr th:only-of-type {\n",
       "        vertical-align: middle;\n",
       "    }\n",
       "\n",
       "    .dataframe tbody tr th {\n",
       "        vertical-align: top;\n",
       "    }\n",
       "\n",
       "    .dataframe thead th {\n",
       "        text-align: right;\n",
       "    }\n",
       "</style>\n",
       "<table border=\"1\" class=\"dataframe\">\n",
       "  <thead>\n",
       "    <tr style=\"text-align: right;\">\n",
       "      <th></th>\n",
       "      <th>end</th>\n",
       "      <th>val</th>\n",
       "      <th>accn</th>\n",
       "      <th>fy</th>\n",
       "      <th>fp</th>\n",
       "      <th>form</th>\n",
       "      <th>filed</th>\n",
       "      <th>frame</th>\n",
       "    </tr>\n",
       "  </thead>\n",
       "  <tbody>\n",
       "    <tr>\n",
       "      <th>0</th>\n",
       "      <td>2008-09-27</td>\n",
       "      <td>39572000000</td>\n",
       "      <td>0001193125-09-153165</td>\n",
       "      <td>2009</td>\n",
       "      <td>Q3</td>\n",
       "      <td>10-Q</td>\n",
       "      <td>2009-07-22</td>\n",
       "      <td>NaN</td>\n",
       "    </tr>\n",
       "    <tr>\n",
       "      <th>1</th>\n",
       "      <td>2008-09-27</td>\n",
       "      <td>39572000000</td>\n",
       "      <td>0001193125-09-214859</td>\n",
       "      <td>2009</td>\n",
       "      <td>FY</td>\n",
       "      <td>10-K</td>\n",
       "      <td>2009-10-27</td>\n",
       "      <td>NaN</td>\n",
       "    </tr>\n",
       "    <tr>\n",
       "      <th>2</th>\n",
       "      <td>2008-09-27</td>\n",
       "      <td>36171000000</td>\n",
       "      <td>0001193125-10-012091</td>\n",
       "      <td>2009</td>\n",
       "      <td>FY</td>\n",
       "      <td>10-K/A</td>\n",
       "      <td>2010-01-25</td>\n",
       "      <td>NaN</td>\n",
       "    </tr>\n",
       "    <tr>\n",
       "      <th>3</th>\n",
       "      <td>2008-09-27</td>\n",
       "      <td>36171000000</td>\n",
       "      <td>0001193125-10-238044</td>\n",
       "      <td>2010</td>\n",
       "      <td>FY</td>\n",
       "      <td>10-K</td>\n",
       "      <td>2010-10-27</td>\n",
       "      <td>CY2008Q3I</td>\n",
       "    </tr>\n",
       "    <tr>\n",
       "      <th>4</th>\n",
       "      <td>2009-06-27</td>\n",
       "      <td>48140000000</td>\n",
       "      <td>0001193125-09-153165</td>\n",
       "      <td>2009</td>\n",
       "      <td>Q3</td>\n",
       "      <td>10-Q</td>\n",
       "      <td>2009-07-22</td>\n",
       "      <td>CY2009Q2I</td>\n",
       "    </tr>\n",
       "    <tr>\n",
       "      <th>5</th>\n",
       "      <td>2009-09-26</td>\n",
       "      <td>53851000000</td>\n",
       "      <td>0001193125-09-214859</td>\n",
       "      <td>2009</td>\n",
       "      <td>FY</td>\n",
       "      <td>10-K</td>\n",
       "      <td>2009-10-27</td>\n",
       "      <td>NaN</td>\n",
       "    </tr>\n",
       "    <tr>\n",
       "      <th>6</th>\n",
       "      <td>2009-09-26</td>\n",
       "      <td>47501000000</td>\n",
       "      <td>0001193125-10-012085</td>\n",
       "      <td>2010</td>\n",
       "      <td>Q1</td>\n",
       "      <td>10-Q</td>\n",
       "      <td>2010-01-25</td>\n",
       "      <td>NaN</td>\n",
       "    </tr>\n",
       "    <tr>\n",
       "      <th>7</th>\n",
       "      <td>2009-09-26</td>\n",
       "      <td>47501000000</td>\n",
       "      <td>0001193125-10-012091</td>\n",
       "      <td>2009</td>\n",
       "      <td>FY</td>\n",
       "      <td>10-K/A</td>\n",
       "      <td>2010-01-25</td>\n",
       "      <td>NaN</td>\n",
       "    </tr>\n",
       "    <tr>\n",
       "      <th>8</th>\n",
       "      <td>2009-09-26</td>\n",
       "      <td>47501000000</td>\n",
       "      <td>0001193125-10-088957</td>\n",
       "      <td>2010</td>\n",
       "      <td>Q2</td>\n",
       "      <td>10-Q</td>\n",
       "      <td>2010-04-21</td>\n",
       "      <td>NaN</td>\n",
       "    </tr>\n",
       "    <tr>\n",
       "      <th>9</th>\n",
       "      <td>2009-09-26</td>\n",
       "      <td>47501000000</td>\n",
       "      <td>0001193125-10-162840</td>\n",
       "      <td>2010</td>\n",
       "      <td>Q3</td>\n",
       "      <td>10-Q</td>\n",
       "      <td>2010-07-21</td>\n",
       "      <td>NaN</td>\n",
       "    </tr>\n",
       "  </tbody>\n",
       "</table>\n",
       "</div>"
      ],
      "text/plain": [
       "          end          val                  accn    fy  fp    form  \\\n",
       "0  2008-09-27  39572000000  0001193125-09-153165  2009  Q3    10-Q   \n",
       "1  2008-09-27  39572000000  0001193125-09-214859  2009  FY    10-K   \n",
       "2  2008-09-27  36171000000  0001193125-10-012091  2009  FY  10-K/A   \n",
       "3  2008-09-27  36171000000  0001193125-10-238044  2010  FY    10-K   \n",
       "4  2009-06-27  48140000000  0001193125-09-153165  2009  Q3    10-Q   \n",
       "5  2009-09-26  53851000000  0001193125-09-214859  2009  FY    10-K   \n",
       "6  2009-09-26  47501000000  0001193125-10-012085  2010  Q1    10-Q   \n",
       "7  2009-09-26  47501000000  0001193125-10-012091  2009  FY  10-K/A   \n",
       "8  2009-09-26  47501000000  0001193125-10-088957  2010  Q2    10-Q   \n",
       "9  2009-09-26  47501000000  0001193125-10-162840  2010  Q3    10-Q   \n",
       "\n",
       "        filed      frame  \n",
       "0  2009-07-22        NaN  \n",
       "1  2009-10-27        NaN  \n",
       "2  2010-01-25        NaN  \n",
       "3  2010-10-27  CY2008Q3I  \n",
       "4  2009-07-22  CY2009Q2I  \n",
       "5  2009-10-27        NaN  \n",
       "6  2010-01-25        NaN  \n",
       "7  2010-01-25        NaN  \n",
       "8  2010-04-21        NaN  \n",
       "9  2010-07-21        NaN  "
      ]
     },
     "execution_count": 26,
     "metadata": {},
     "output_type": "execute_result"
    }
   ],
   "source": [
    "df_tag_data = pd.DataFrame.from_dict(tag_data['units']['USD'])\n",
    "df_tag_data.head(10)"
   ]
  },
  {
   "cell_type": "markdown",
   "metadata": {},
   "source": [
    "## Plot trend data"
   ]
  },
  {
   "cell_type": "markdown",
   "metadata": {},
   "source": [
    "### Create a table of plot data"
   ]
  },
  {
   "cell_type": "code",
   "execution_count": 16,
   "metadata": {},
   "outputs": [
    {
     "data": {
      "text/html": [
       "<div>\n",
       "<style scoped>\n",
       "    .dataframe tbody tr th:only-of-type {\n",
       "        vertical-align: middle;\n",
       "    }\n",
       "\n",
       "    .dataframe tbody tr th {\n",
       "        vertical-align: top;\n",
       "    }\n",
       "\n",
       "    .dataframe thead th {\n",
       "        text-align: right;\n",
       "    }\n",
       "</style>\n",
       "<table border=\"1\" class=\"dataframe\">\n",
       "  <thead>\n",
       "    <tr style=\"text-align: right;\">\n",
       "      <th></th>\n",
       "      <th>End Date</th>\n",
       "      <th>Assets (USD in Billions)</th>\n",
       "    </tr>\n",
       "  </thead>\n",
       "  <tbody>\n",
       "    <tr>\n",
       "      <th>90</th>\n",
       "      <td>2019-06-29</td>\n",
       "      <td>322.239</td>\n",
       "    </tr>\n",
       "    <tr>\n",
       "      <th>96</th>\n",
       "      <td>2019-12-28</td>\n",
       "      <td>340.618</td>\n",
       "    </tr>\n",
       "    <tr>\n",
       "      <th>97</th>\n",
       "      <td>2020-03-28</td>\n",
       "      <td>320.400</td>\n",
       "    </tr>\n",
       "    <tr>\n",
       "      <th>98</th>\n",
       "      <td>2020-06-27</td>\n",
       "      <td>317.344</td>\n",
       "    </tr>\n",
       "    <tr>\n",
       "      <th>104</th>\n",
       "      <td>2020-12-26</td>\n",
       "      <td>354.054</td>\n",
       "    </tr>\n",
       "    <tr>\n",
       "      <th>105</th>\n",
       "      <td>2021-03-27</td>\n",
       "      <td>337.158</td>\n",
       "    </tr>\n",
       "    <tr>\n",
       "      <th>106</th>\n",
       "      <td>2021-06-26</td>\n",
       "      <td>329.840</td>\n",
       "    </tr>\n",
       "    <tr>\n",
       "      <th>112</th>\n",
       "      <td>2021-12-25</td>\n",
       "      <td>381.191</td>\n",
       "    </tr>\n",
       "    <tr>\n",
       "      <th>113</th>\n",
       "      <td>2022-03-26</td>\n",
       "      <td>350.662</td>\n",
       "    </tr>\n",
       "    <tr>\n",
       "      <th>114</th>\n",
       "      <td>2022-06-25</td>\n",
       "      <td>336.309</td>\n",
       "    </tr>\n",
       "  </tbody>\n",
       "</table>\n",
       "</div>"
      ],
      "text/plain": [
       "       End Date  Assets (USD in Billions)\n",
       "90   2019-06-29                   322.239\n",
       "96   2019-12-28                   340.618\n",
       "97   2020-03-28                   320.400\n",
       "98   2020-06-27                   317.344\n",
       "104  2020-12-26                   354.054\n",
       "105  2021-03-27                   337.158\n",
       "106  2021-06-26                   329.840\n",
       "112  2021-12-25                   381.191\n",
       "113  2022-03-26                   350.662\n",
       "114  2022-06-25                   336.309"
      ]
     },
     "execution_count": 16,
     "metadata": {},
     "output_type": "execute_result"
    }
   ],
   "source": [
    "# Filter rows to only those with current year (CY) labels\n",
    "starts_with_cy = lambda x: bool(isinstance(re.search(r'^CY', x), re.Match))\n",
    "\n",
    "x_axis_name = 'End Date'\n",
    "y_axis_name = f'{tag} (USD in Billions)'\n",
    "\n",
    "df_plot_data = (\n",
    "    df_tag_data\n",
    "    .query(\"form == '10-Q'\")\n",
    "    .assign(filter_flag = lambda x: [starts_with_cy(str(y)) for y in x.frame])\n",
    "    .query(\"filter_flag==True\")\n",
    "    .filter(['end', 'val'])\n",
    "    .assign(val = lambda x: x.val/1000000000)\n",
    "    .rename(columns={'end':x_axis_name, 'val':y_axis_name})\n",
    "    .sort_values(by=x_axis_name)\n",
    ")\n",
    "\n",
    "df_plot_data.tail(10)"
   ]
  },
  {
   "cell_type": "markdown",
   "metadata": {},
   "source": [
    "### Draw a line chart"
   ]
  },
  {
   "cell_type": "code",
   "execution_count": 20,
   "metadata": {},
   "outputs": [
    {
     "data": {
      "image/png": "[encoded data removed]",
      "text/plain": [
       "<Figure size 720x432 with 1 Axes>"
      ]
     },
     "metadata": {
      "needs_background": "light"
     },
     "output_type": "display_data"
    }
   ],
   "source": [
    "df_plot_data.plot(kind = 'line', x = x_axis_name, y = y_axis_name, \n",
    "                  figsize=(10, 6), title = f\"{ticker} {tag}\")\n",
    "plt.show()"
   ]
  },
  {
   "cell_type": "code",
   "execution_count": null,
   "metadata": {},
   "outputs": [],
   "source": []
  }
 ],
 "metadata": {
  "kernelspec": {
   "display_name": "Python 3",
   "language": "python",
   "name": "python3"
  },
  "language_info": {
   "codemirror_mode": {
    "name": "ipython",
    "version": 3
   },
   "file_extension": ".py",
   "mimetype": "text/x-python",
   "name": "python",
   "nbconvert_exporter": "python",
   "pygments_lexer": "ipython3",
   "version": "3.8.8"
  }
 },
 "nbformat": 4,
 "nbformat_minor": 4
}
