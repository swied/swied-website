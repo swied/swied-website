{
 "cells": [
  {
   "cell_type": "code",
   "execution_count": 3,
   "id": "0cc167f9-71d9-422d-81af-075c557efa13",
   "metadata": {},
   "outputs": [],
   "source": [
    "import ipywidgets as widgets\n",
    "from ipywidgets import interact\n",
    "import pandas as pd\n",
    "import altair as alt\n",
    "import matplotlib.pyplot as plt"
   ]
  },
  {
   "cell_type": "code",
   "execution_count": 4,
   "id": "f3ae43f3",
   "metadata": {},
   "outputs": [
    {
     "data": {
      "text/html": [
       "<div>\n",
       "<style scoped>\n",
       "    .dataframe tbody tr th:only-of-type {\n",
       "        vertical-align: middle;\n",
       "    }\n",
       "\n",
       "    .dataframe tbody tr th {\n",
       "        vertical-align: top;\n",
       "    }\n",
       "\n",
       "    .dataframe thead th {\n",
       "        text-align: right;\n",
       "    }\n",
       "</style>\n",
       "<table border=\"1\" class=\"dataframe\">\n",
       "  <thead>\n",
       "    <tr style=\"text-align: right;\">\n",
       "      <th></th>\n",
       "      <th>number_of_pulls</th>\n",
       "      <th>number_of_wins</th>\n",
       "    </tr>\n",
       "    <tr>\n",
       "      <th>button_name</th>\n",
       "      <th></th>\n",
       "      <th></th>\n",
       "    </tr>\n",
       "  </thead>\n",
       "  <tbody>\n",
       "    <tr>\n",
       "      <th>Red</th>\n",
       "      <td>0</td>\n",
       "      <td>0</td>\n",
       "    </tr>\n",
       "    <tr>\n",
       "      <th>Blue</th>\n",
       "      <td>0</td>\n",
       "      <td>0</td>\n",
       "    </tr>\n",
       "    <tr>\n",
       "      <th>Green</th>\n",
       "      <td>0</td>\n",
       "      <td>0</td>\n",
       "    </tr>\n",
       "  </tbody>\n",
       "</table>\n",
       "</div>"
      ],
      "text/plain": [
       "             number_of_pulls  number_of_wins\n",
       "button_name                                 \n",
       "Red                        0               0\n",
       "Blue                       0               0\n",
       "Green                      0               0"
      ]
     },
     "execution_count": 4,
     "metadata": {},
     "output_type": "execute_result"
    }
   ],
   "source": [
    "df_pulls = pd.DataFrame({\n",
    "    \"button_name\": ['Red', 'Blue', \"Green\"],\n",
    "    \"number_of_pulls\": [0,0,0],\n",
    "    \"number_of_wins\" : [0,0,0]}).set_index(\"button_name\")\n",
    "df_pulls"
   ]
  },
  {
   "cell_type": "code",
   "execution_count": 5,
   "id": "7fa0c652",
   "metadata": {},
   "outputs": [
    {
     "data": {
      "application/vnd.jupyter.widget-view+json": {
       "model_id": "d26ed01d917d4edf93ef9b4657650c9b",
       "version_major": 2,
       "version_minor": 0
      },
      "text/plain": [
       "HBox(children=(Button(description='Red', style=ButtonStyle()), Button(description='Blue', style=ButtonStyle())…"
      ]
     },
     "metadata": {},
     "output_type": "display_data"
    },
    {
     "data": {
      "application/vnd.jupyter.widget-view+json": {
       "model_id": "29cd5468b12a4f1db8b25d7e65cf6912",
       "version_major": 2,
       "version_minor": 0
      },
      "text/plain": [
       "Output(layout=Layout(height='300px'))"
      ]
     },
     "metadata": {},
     "output_type": "display_data"
    }
   ],
   "source": [
    "red_button = widgets.Button(description='Red')\n",
    "blue_button = widgets.Button(description='Blue')\n",
    "green_button = widgets.Button(description='Green')\n",
    "\n",
    "buttons = widgets.HBox([red_button, blue_button, green_button])\n",
    "buttons\n",
    "out = widgets.Output(layout = widgets.Layout(height='300px'))\n",
    "\n",
    "def plot_pulls(btn):\n",
    "    with out:\n",
    "        button_name = btn.description\n",
    "        df_pulls.loc[button_name]['number_of_pulls']+=1\n",
    "        df_pulls.plot.bar(y='number_of_pulls')\n",
    "        out.clear_output()\n",
    "        plt.show()\n",
    "        \n",
    "\n",
    "red_button.on_click(plot_pulls)\n",
    "blue_button.on_click(plot_pulls)\n",
    "green_button.on_click(plot_pulls)\n",
    "\n",
    "# widgets.interact(plot_list, arm=pulls)\n",
    "\n",
    "display(buttons)\n",
    "display(out)\n",
    "# buttons.on_displayed(print(\"Hello\"))"
   ]
  },
  {
   "cell_type": "code",
   "execution_count": null,
   "id": "61d617a7",
   "metadata": {},
   "outputs": [],
   "source": []
  }
 ],
 "metadata": {
  "kernelspec": {
   "display_name": "Python 3",
   "language": "python",
   "name": "python3"
  },
  "language_info": {
   "codemirror_mode": {
    "name": "ipython",
    "version": 3
   },
   "file_extension": ".py",
   "mimetype": "text/x-python",
   "name": "python",
   "nbconvert_exporter": "python",
   "pygments_lexer": "ipython3",
   "version": "3.8.8"
  }
 },
 "nbformat": 4,
 "nbformat_minor": 5
}
